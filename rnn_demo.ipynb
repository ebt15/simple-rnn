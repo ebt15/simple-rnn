{
  "cells": [
    {
      "cell_type": "code",
      "execution_count": null,
      "metadata": {
        "id": "L3NUea-3HYRo"
      },
      "outputs": [],
      "source": [
        "# Import necessary libraries\n",
        "import tensorflow as tf\n",
        "from tensorflow.keras.datasets import imdb\n",
        "from tensorflow.keras.preprocessing.sequence import pad_sequences"
      ]
    },
    {
      "cell_type": "code",
      "execution_count": null,
      "metadata": {
        "id": "UydIOnnnHYRp",
        "outputId": "b5c1e178-20d3-401d-f9b4-aa6f32b28bc4"
      },
      "outputs": [
        {
          "name": "stdout",
          "output_type": "stream",
          "text": [
            "Downloading data from https://storage.googleapis.com/tensorflow/tf-keras-datasets/imdb.npz\n",
            "17464789/17464789 [==============================] - 5s 0us/step\n"
          ]
        }
      ],
      "source": [
        "# Load the IMDB dataset\n",
        "# We will only keep the top 10,000 most frequently occurring words in the training data\n",
        "# The rare words will be discarded to keep the size of the data manageable\n",
        "vocab_size = 10000\n",
        "(X_train, y_train), (X_test, y_test) = imdb.load_data(num_words=vocab_size)"
      ]
    },
    {
      "cell_type": "markdown",
      "source": [
        "# Pad sequences\n",
        "In NLP, data is often in the form of sequences of words. However, these sequences can vary in length. Most machine learning algorithms require input data to be in a consistent format, i.e., they need to have the same length. Padding is the process of standardizing the length of the sequences by adding zeros to the shorter sequences until they reach the same length as the longest sequence. In this code, `pad_sequences` is used to ensure that all sequences in the dataset have a length of 500 words."
      ],
      "metadata": {
        "id": "dLP8BaJIHZ68"
      }
    },
    {
      "cell_type": "code",
      "execution_count": null,
      "metadata": {
        "id": "RkSM_De2HYRq"
      },
      "outputs": [],
      "source": [
        "# Pad sequences with max_len\n",
        "max_len = 500\n",
        "X_train = pad_sequences(X_train, maxlen=max_len)\n",
        "X_test = pad_sequences(X_test, maxlen=max_len)"
      ]
    },
    {
      "cell_type": "markdown",
      "source": [
        "# Embedding Layer\n",
        "The Embedding layer is used to convert each word into a dense vector of fixed size. The Embedding layer takes the integer-encoded vocabulary and looks up the embedding vector for each word-index. These vectors are learned as the model trains. The vectors add a dimension to the output array, resulting in an output of shape (batch, sequence, embedding). In this code, the Embedding layer is used to convert the integer-encoded vocabulary of size 10,000 into dense vectors of size 32."
      ],
      "metadata": {
        "id": "3qZE0lsFHvYp"
      }
    },
    {
      "cell_type": "code",
      "execution_count": null,
      "metadata": {
        "id": "Bil9xLXdHYRq"
      },
      "outputs": [],
      "source": [
        "# Define the RNN model\n",
        "model = tf.keras.models.Sequential([\n",
        "    # Embedding layer to convert integers to dense vectors of fixed size\n",
        "    tf.keras.layers.Embedding(vocab_size, 32),\n",
        "    # Simple RNN layer\n",
        "    tf.keras.layers.SimpleRNN(32),\n",
        "    # Dense layer for output prediction\n",
        "    tf.keras.layers.Dense(1, activation='sigmoid')\n",
        "])"
      ]
    },
    {
      "cell_type": "markdown",
      "source": [
        "In the above code, the Dense layer is used to output the prediction of the model. The 'sigmoid' activation function is used to output a probability value between 0 and 1, indicating the sentiment of the review (1 being positive and 0 being negative)."
      ],
      "metadata": {
        "id": "rj0-MWF7IG51"
      }
    },
    {
      "cell_type": "code",
      "execution_count": null,
      "metadata": {
        "id": "pZV9C6LsHYRq"
      },
      "outputs": [],
      "source": [
        "# Compile the model\n",
        "model.compile(loss='binary_crossentropy', optimizer='adam', metrics=['accuracy'])"
      ]
    },
    {
      "cell_type": "markdown",
      "source": [
        "In the above code, 'adam' optimizer is used, which is an algorithm for first-order gradient-based optimization of stochastic objective functions. The 'binary_crossentropy' loss function is used as it is a good loss function for binary classification problems. The 'accuracy' metric is used to monitor the training and testing steps."
      ],
      "metadata": {
        "id": "rzZ5C8WQIfOz"
      }
    },
    {
      "cell_type": "code",
      "execution_count": null,
      "metadata": {
        "id": "FLOVicOCHYRq",
        "outputId": "5c439c26-4dce-4094-8b48-a250e42e3e70"
      },
      "outputs": [
        {
          "name": "stdout",
          "output_type": "stream",
          "text": [
            "Epoch 1/5\n",
            "782/782 [==============================] - 355s 450ms/step - loss: 0.5900 - accuracy: 0.6767 - val_loss: 0.5559 - val_accuracy: 0.7110\n",
            "Epoch 2/5\n",
            "782/782 [==============================] - 419s 536ms/step - loss: 0.3856 - accuracy: 0.8312 - val_loss: 0.4820 - val_accuracy: 0.8031\n",
            "Epoch 3/5\n",
            "782/782 [==============================] - 354s 453ms/step - loss: 0.2191 - accuracy: 0.9159 - val_loss: 0.4680 - val_accuracy: 0.8019\n",
            "Epoch 4/5\n",
            "782/782 [==============================] - 316s 405ms/step - loss: 0.1000 - accuracy: 0.9676 - val_loss: 0.5501 - val_accuracy: 0.8126\n",
            "Epoch 5/5\n",
            "782/782 [==============================] - 316s 404ms/step - loss: 0.0451 - accuracy: 0.9870 - val_loss: 0.6708 - val_accuracy: 0.8018\n"
          ]
        }
      ],
      "source": [
        "# Train the model\n",
        "history = model.fit(X_train, y_train, epochs=5, validation_data=(X_test, y_test))"
      ]
    },
    {
      "cell_type": "markdown",
      "source": [
        "# Overfitting Detected\n",
        "\n",
        "From the output, we can see that our model is overfitting. This is evident as our training accuracy keeps increasing, reaching 98.7% in the 5th epoch, while our validation accuracy doesn't improve significantly after the 2nd epoch.\n",
        "\n",
        "Moreover, the validation loss starts to increase after the 2nd epoch while the training loss keeps decreasing. This indicates that our model is learning the training data too well, including its noise and outliers, and fails to generalize well to new, unseen data.\n",
        "\n",
        "# Ways to Address Overfitting\n",
        "\n",
        "1. **Regularization**: Techniques like L1, L2, and dropout can help by adding a penalty to the loss function based on the complexity of the model.\n",
        "\n",
        "2. **Early Stopping**: We can stop the training process before the model starts to overfit. This can be done by monitoring the model's performance on the validation set after each epoch and stopping the training when the performance starts to degrade.\n",
        "\n",
        "3. **Increasing the Dataset**: Overfitting generally occurs when the model is too complex relative to the amount and complexity of the training data. By increasing the amount of training data, the model will have more examples to learn from, which can help it generalize better.\n",
        "\n",
        "4. **Reducing the Model's Complexity**: If the model is too complex, it can easily fit the noise in the training data and overfit. By reducing the complexity of the model (e.g., reducing the number of layers or the number of units in each layer), we can make it harder for the model to fit the noise and hence reduce overfitting."
      ],
      "metadata": {
        "id": "_vT9r94iMpP5"
      }
    },
    {
      "cell_type": "code",
      "execution_count": null,
      "metadata": {
        "id": "H1CEF-Y1HYRq",
        "outputId": "e3a6d36f-de03-41d8-b643-7a97f1d61ad0"
      },
      "outputs": [
        {
          "data": {
            "text/plain": [
              "<matplotlib.legend.Legend at 0x19908f7f610>"
            ]
          },
          "execution_count": 7,
          "metadata": {},
          "output_type": "execute_result"
        },
        {
          "data": {
            "image/png": "[encoded data removed]",
            "text/plain": [
              "<Figure size 1200x400 with 1 Axes>"
            ]
          },
          "metadata": {},
          "output_type": "display_data"
        }
      ],
      "source": [
        "# Plot the accuracy and loss\n",
        "import matplotlib.pyplot as plt\n",
        "\n",
        "# Plot training & validation accuracy values\n",
        "plt.figure(figsize=(12, 4))\n",
        "plt.subplot(1, 2, 1)\n",
        "plt.plot(history.history['accuracy'])\n",
        "plt.plot(history.history['val_accuracy'])\n",
        "plt.title('Model accuracy')\n",
        "plt.ylabel('Accuracy')\n",
        "plt.xlabel('Epoch')\n",
        "plt.legend(['Train', 'Test'], loc='upper left')"
      ]
    },
    {
      "cell_type": "code",
      "execution_count": null,
      "metadata": {
        "id": "Gsvc2newHYRq",
        "outputId": "bbe16d7e-ca56-41dc-e052-b42782180ace"
      },
      "outputs": [
        {
          "data": {
            "image/png": "[encoded data removed]",
            "text/plain": [
              "<Figure size 640x480 with 1 Axes>"
            ]
          },
          "metadata": {},
          "output_type": "display_data"
        }
      ],
      "source": [
        "# Plot training & validation loss values\n",
        "plt.subplot(1, 2, 2)\n",
        "plt.plot(history.history['loss'])\n",
        "plt.plot(history.history['val_loss'])\n",
        "plt.title('Model loss')\n",
        "plt.ylabel('Loss')\n",
        "plt.xlabel('Epoch')\n",
        "plt.legend(['Train', 'Test'], loc='upper left')\n",
        "\n",
        "plt.show()"
      ]
    },
    {
      "cell_type": "code",
      "execution_count": null,
      "metadata": {
        "id": "DFCAyVqNHYRr"
      },
      "outputs": [],
      "source": [
        "# Save the model weights\n",
        "model.save_weights('model_weights.h5')"
      ]
    },
    {
      "cell_type": "code",
      "execution_count": null,
      "metadata": {
        "id": "qWePQz1sHYRr"
      },
      "outputs": [],
      "source": [
        "# Create a new model with the same structure\n",
        "new_model = tf.keras.models.Sequential([\n",
        "    tf.keras.layers.Embedding(vocab_size, 32),\n",
        "    tf.keras.layers.SimpleRNN(32),\n",
        "    tf.keras.layers.Dense(1, activation='sigmoid')\n",
        "])"
      ]
    },
    {
      "cell_type": "markdown",
      "source": [
        "# Why do we need to create a new model with the same structure?\n",
        "\n",
        "When we save the weights of a model, we're only saving the parameters learned during training, not the architecture of the model itself. The weights are saved in the order they appear in the model, without any information about which layer they belong to or what the shape of the layer is.\n",
        "\n",
        "When we load the weights, the program needs to know how to correctly distribute these weights back to the appropriate layers. Therefore, we need to create a new model with the same architecture as the original model so that the weights can be correctly matched to their corresponding layers.\n",
        "\n",
        "If we try to load weights into a model with a different architecture, we'll get an error because the program won't know how to match the weights to the layers.\n",
        "\n",
        "If we want to save both the architecture and the weights of the model, we can use model.save('model.h5') to save the entire model, and then use tf.keras.models.load_model('model.h5') to load it. This way, we don't need to define the architecture again when we load the model."
      ],
      "metadata": {
        "id": "8Cqsm99GJLok"
      }
    },
    {
      "cell_type": "code",
      "execution_count": null,
      "metadata": {
        "id": "WZOsWAlsHYRr"
      },
      "outputs": [],
      "source": [
        "# Load the weights into the new model\n",
        "new_model.load_weights('model_weights.h5')\n",
        "\n",
        "# Compile the new model\n",
        "new_model.compile(loss='binary_crossentropy', optimizer='adam', metrics=['accuracy'])"
      ]
    },
    {
      "cell_type": "code",
      "execution_count": null,
      "metadata": {
        "id": "IsPWlyPbHYRr"
      },
      "outputs": [],
      "source": [
        "# Now you can use the new model to make predictions\n",
        "# Let's say we have a new review (already preprocessed and converted to sequences)\n",
        "new_review = X_test[0]  # just an example, replace with your actual data"
      ]
    },
    {
      "cell_type": "code",
      "execution_count": null,
      "metadata": {
        "id": "0NhGXsNwHYRr"
      },
      "outputs": [],
      "source": [
        "# Since the model expects input in batches, we need to add an extra dimension\n",
        "new_review = new_review.reshape(1, -1)"
      ]
    },
    {
      "cell_type": "code",
      "execution_count": null,
      "metadata": {
        "id": "AR0pGMTHHYRr",
        "outputId": "2ce6fad3-f9bf-4aad-d148-bfaf0e45a5a8"
      },
      "outputs": [
        {
          "name": "stdout",
          "output_type": "stream",
          "text": [
            "1/1 [==============================] - 0s 164ms/step\n"
          ]
        }
      ],
      "source": [
        "# Use the model to predict the sentiment of the new review\n",
        "prediction = new_model.predict(new_review)"
      ]
    },
    {
      "cell_type": "code",
      "execution_count": null,
      "metadata": {
        "id": "mTPNTRx2HYRr",
        "outputId": "c62bef3d-a9bf-46fd-e71f-7d6c45dd0280"
      },
      "outputs": [
        {
          "name": "stdout",
          "output_type": "stream",
          "text": [
            "This review is negative.\n"
          ]
        }
      ],
      "source": [
        "# The output is a value between 0 and 1 thanks to the sigmoid activation function\n",
        "# We can convert this to a more human-readable format\n",
        "if prediction < 0.5:\n",
        "    print(\"This review is negative.\")\n",
        "else:\n",
        "    print(\"This review is positive.\")"
      ]
    },
    {
      "cell_type": "code",
      "execution_count": null,
      "metadata": {
        "id": "LqSLDJWGHYRs"
      },
      "outputs": [],
      "source": []
    }
  ],
  "metadata": {
    "kernelspec": {
      "display_name": "kaggle-asl",
      "language": "python",
      "name": "python3"
    },
    "language_info": {
      "codemirror_mode": {
        "name": "ipython",
        "version": 3
      },
      "file_extension": ".py",
      "mimetype": "text/x-python",
      "name": "python",
      "nbconvert_exporter": "python",
      "pygments_lexer": "ipython3",
      "version": "3.9.16"
    },
    "orig_nbformat": 4,
    "colab": {
      "provenance": []
    }
  },
  "nbformat": 4,
  "nbformat_minor": 0
}